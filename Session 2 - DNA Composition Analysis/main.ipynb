{
 "cells": [
  {
   "cell_type": "code",
   "execution_count": 1,
   "metadata": {},
   "outputs": [],
   "source": [
    "from Bio.Seq import Seq"
   ]
  },
  {
   "cell_type": "code",
   "execution_count": 3,
   "metadata": {},
   "outputs": [
    {
     "name": "stdout",
     "output_type": "stream",
     "text": [
      "AGCTTGCAGCGTCCGTTAGCTCGAGTCCAGGACGTTAGTCCTGCAGTC\n",
      "CAGTAAGTTGCCGTTAGCGCGTAGTGCCAGTAAGCGGCTCGTTAGTGG\n"
     ]
    }
   ],
   "source": [
    "SeqA = Seq(\"AGCTTGCAGCGTCCGTTAGCTCGAGTCCAGGACGTTAGTCCTGCAGTC\")\n",
    "SeqB = Seq(\"CAGTAAGTTGCCGTTAGCGCGTAGTGCCAGTAAGCGGCTCGTTAGTGG\")\n",
    "\n",
    "print(SeqA)\n",
    "print(SeqB)"
   ]
  },
  {
   "cell_type": "code",
   "execution_count": 4,
   "metadata": {},
   "outputs": [],
   "source": [
    "def GC_Content(sequence):\n",
    "    lenOfSequence = len(sequence)\n",
    "    G_Count = sequence.count('G')\n",
    "    C_Count = sequence.count('C')\n",
    "    percentage = (G_Count + C_Count)/lenOfSequence\n",
    "    return percentage"
   ]
  },
  {
   "cell_type": "code",
   "execution_count": 6,
   "metadata": {},
   "outputs": [
    {
     "name": "stdout",
     "output_type": "stream",
     "text": [
      "0.5833333333333334\n",
      "0.5625\n"
     ]
    }
   ],
   "source": [
    "print(GC_Content(SeqA))\n",
    "print(GC_Content(SeqB))"
   ]
  },
  {
   "cell_type": "code",
   "execution_count": 7,
   "metadata": {},
   "outputs": [
    {
     "name": "stdout",
     "output_type": "stream",
     "text": [
      "GC Percentage:  0.5833333333333334\n",
      "AT Percentage:  0.41666666666666663\n"
     ]
    }
   ],
   "source": [
    "GC_percentage = GC_Content(SeqA)\n",
    "AT_percentage = 1 - GC_percentage\n",
    "print(\"GC Percentage: \", GC_percentage)\n",
    "print(\"AT Percentage: \", AT_percentage)"
   ]
  },
  {
   "cell_type": "code",
   "execution_count": 12,
   "metadata": {},
   "outputs": [],
   "source": [
    "from Bio.SeqUtils import gc_fraction as GC"
   ]
  },
  {
   "cell_type": "code",
   "execution_count": 14,
   "metadata": {},
   "outputs": [
    {
     "name": "stdout",
     "output_type": "stream",
     "text": [
      "GC Percentage using GC:  0.5833333333333334\n",
      "AT Percentage using GC:  0.41666666666666663\n"
     ]
    }
   ],
   "source": [
    "GC_percentage_usingGC = GC(SeqA)\n",
    "AT_percentage_usingGC = 1 - GC_percentage_usingGC\n",
    "print(\"GC Percentage using GC: \", GC_percentage_usingGC)\n",
    "print(\"AT Percentage using GC: \", AT_percentage_usingGC)"
   ]
  },
  {
   "cell_type": "code",
   "execution_count": 16,
   "metadata": {},
   "outputs": [],
   "source": [
    "# Tm_wallace\n",
    "# Tm_GC\n",
    "# Tm_NN"
   ]
  },
  {
   "cell_type": "code",
   "execution_count": 15,
   "metadata": {},
   "outputs": [],
   "source": [
    "from Bio.SeqUtils import MeltingTemp"
   ]
  },
  {
   "cell_type": "code",
   "execution_count": 28,
   "metadata": {},
   "outputs": [
    {
     "name": "stdout",
     "output_type": "stream",
     "text": [
      "Wallace Melting Temperature:  152.0\n",
      "GC Melting Temperature:  71.31956873864458\n",
      "NN Melting Temperature:  73.44322665093074\n"
     ]
    }
   ],
   "source": [
    "# Tm_wallace\n",
    "SeqA_wallaceTM = MeltingTemp.Tm_Wallace(SeqA)\n",
    "print(\"Wallace Melting Temperature: \", SeqA_wallaceTM)\n",
    "\n",
    "# Tm_GC\n",
    "SeqA_GCTM = MeltingTemp.Tm_GC(SeqA)\n",
    "print(\"GC Melting Temperature: \", SeqA_GCTM)\n",
    "\n",
    "# Tm_NN\n",
    "SeqA_NNTM = MeltingTemp.Tm_NN(SeqA)\n",
    "print(\"NN Melting Temperature: \", SeqA_NNTM)"
   ]
  },
  {
   "cell_type": "code",
   "execution_count": 29,
   "metadata": {},
   "outputs": [],
   "source": [
    "from Bio.SeqUtils import molecular_weight"
   ]
  },
  {
   "cell_type": "code",
   "execution_count": 30,
   "metadata": {},
   "outputs": [
    {
     "name": "stdout",
     "output_type": "stream",
     "text": [
      "Molecular Weight: 14831.413499999997\n"
     ]
    }
   ],
   "source": [
    "seqA_molecularWeight = molecular_weight(SeqA)\n",
    "print(\"Molecular Weight:\", seqA_molecularWeight)"
   ]
  }
 ],
 "metadata": {
  "kernelspec": {
   "display_name": "Python 3",
   "language": "python",
   "name": "python3"
  },
  "language_info": {
   "codemirror_mode": {
    "name": "ipython",
    "version": 3
   },
   "file_extension": ".py",
   "mimetype": "text/x-python",
   "name": "python",
   "nbconvert_exporter": "python",
   "pygments_lexer": "ipython3",
   "version": "3.10.9"
  },
  "orig_nbformat": 4
 },
 "nbformat": 4,
 "nbformat_minor": 2
}
