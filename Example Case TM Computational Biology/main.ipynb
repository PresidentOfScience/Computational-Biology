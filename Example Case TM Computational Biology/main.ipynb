{
 "cells": [
  {
   "attachments": {},
   "cell_type": "markdown",
   "metadata": {},
   "source": [
    "Import File and Read Sequences from FASTA File"
   ]
  },
  {
   "cell_type": "code",
   "execution_count": 89,
   "metadata": {},
   "outputs": [],
   "source": [
    "from Bio import SeqIO\n",
    "\n",
    "seq_x = SeqIO.read('x.fasta', 'fasta').seq\n",
    "seq_y = SeqIO.read('y.fasta', 'fasta').seq\n",
    "\n",
    "seq_x = seq_x.replace('N', '')"
   ]
  },
  {
   "attachments": {},
   "cell_type": "markdown",
   "metadata": {},
   "source": [
    "1. Sequence Manipulation"
   ]
  },
  {
   "cell_type": "code",
   "execution_count": 90,
   "metadata": {},
   "outputs": [
    {
     "name": "stdout",
     "output_type": "stream",
     "text": [
      "Counter({'G': 524, 'C': 515, 'A': 462, 'T': 364})\n",
      "Counter({'C': 315, 'G': 286, 'A': 234, 'T': 215})\n"
     ]
    }
   ],
   "source": [
    "from collections import Counter\n",
    "\n",
    "print(Counter(seq_x))\n",
    "print(Counter(seq_y))"
   ]
  },
  {
   "cell_type": "code",
   "execution_count": 91,
   "metadata": {},
   "outputs": [
    {
     "name": "stdout",
     "output_type": "stream",
     "text": [
      "Total length of Sequence X = 1865\n",
      "Total length of Sequence Y = 1050\n"
     ]
    }
   ],
   "source": [
    "# Total length\n",
    "\n",
    "print(f\"Total length of Sequence X = {len(seq_x)}\")\n",
    "print(f\"Total length of Sequence Y = {len(seq_y)}\")"
   ]
  },
  {
   "cell_type": "code",
   "execution_count": 92,
   "metadata": {},
   "outputs": [
    {
     "name": "stdout",
     "output_type": "stream",
     "text": [
      "Codon CGC appears first time in Sequence X at index = 51\n",
      "Codon CGC appears first time in Sequence Y at index = 39\n"
     ]
    }
   ],
   "source": [
    "# Index where first time CGC appears\n",
    "\n",
    "print(f\"Codon CGC appears first time in Sequence X at index = {seq_x.find('CGC')}\")\n",
    "print(f\"Codon CGC appears first time in Sequence Y at index = {seq_y.find('CGC')}\")"
   ]
  },
  {
   "cell_type": "code",
   "execution_count": 93,
   "metadata": {},
   "outputs": [
    {
     "name": "stdout",
     "output_type": "stream",
     "text": [
      "CAGACGGTTTCAAGGTGACTGTGACTGAGGTTGTGGTA\n"
     ]
    }
   ],
   "source": [
    "# Create new sequence\n",
    "\n",
    "seq_z1 = seq_x[:10] + seq_x[-5:]\n",
    "seq_z2 = seq_y[:20] + seq_y[-3:]\n",
    "seq_z = seq_z1 + seq_z2\n",
    "seq_z = seq_z[::-1]\n",
    "\n",
    "print(seq_z)"
   ]
  },
  {
   "attachments": {},
   "cell_type": "markdown",
   "metadata": {},
   "source": [
    "2. Sequence Analysis and Plotting"
   ]
  },
  {
   "cell_type": "code",
   "execution_count": 94,
   "metadata": {},
   "outputs": [],
   "source": [
    "import matplotlib.pyplot as plt"
   ]
  },
  {
   "cell_type": "code",
   "execution_count": 95,
   "metadata": {},
   "outputs": [
    {
     "data": {
      "image/png": "[encoded data removed]",
      "text/plain": [
       "<Figure size 640x480 with 1 Axes>"
      ]
     },
     "metadata": {},
     "output_type": "display_data"
    }
   ],
   "source": [
    "# Display nucleotide bases frequency (Bar Plot)\n",
    "\n",
    "A_count = seq_z.count('A')\n",
    "C_count = seq_z.count('C')\n",
    "\n",
    "plt.bar(['A', 'C'], [A_count, C_count])\n",
    "plt.show()"
   ]
  },
  {
   "cell_type": "code",
   "execution_count": 96,
   "metadata": {},
   "outputs": [
    {
     "name": "stdout",
     "output_type": "stream",
     "text": [
      "GC percentage in Sequence Z = 50.0%\n",
      "AT percentage in Sequence Z = 50.0%\n"
     ]
    }
   ],
   "source": [
    "# Display GC and AT content percentage\n",
    "\n",
    "from Bio.SeqUtils import gc_fraction as GC\n",
    "\n",
    "GC_Z = GC(seq_z)\n",
    "AT_Z = 1 - GC_Z\n",
    "print(f\"GC percentage in Sequence Z = {GC_Z * 100}%\")\n",
    "print(f\"AT percentage in Sequence Z = {AT_Z * 100}%\")"
   ]
  },
  {
   "cell_type": "code",
   "execution_count": 97,
   "metadata": {},
   "outputs": [
    {
     "name": "stdout",
     "output_type": "stream",
     "text": [
      "Melting temperature for Sequence Z based on Wallace method = 114.0\n"
     ]
    }
   ],
   "source": [
    "# Display melting temperature\n",
    "\n",
    "from Bio.SeqUtils import MeltingTemp\n",
    "\n",
    "wallace_mt = MeltingTemp.Tm_Wallace(seq_z)\n",
    "print(f\"Melting temperature for Sequence Z based on Wallace method = {wallace_mt}\")"
   ]
  },
  {
   "cell_type": "code",
   "execution_count": 98,
   "metadata": {},
   "outputs": [
    {
     "name": "stdout",
     "output_type": "stream",
     "text": [
      "Molecular weight of Sequence Z = 11924.584100000002\n"
     ]
    }
   ],
   "source": [
    "# Display molecular weight\n",
    "\n",
    "from Bio.SeqUtils import molecular_weight\n",
    "\n",
    "mw = molecular_weight(seq_z)\n",
    "print(f\"Molecular weight of Sequence Z = {mw}\")"
   ]
  },
  {
   "attachments": {},
   "cell_type": "markdown",
   "metadata": {},
   "source": [
    "3. DNA and mRNA Protein Synthesis"
   ]
  },
  {
   "cell_type": "code",
   "execution_count": 99,
   "metadata": {},
   "outputs": [
    {
     "name": "stdout",
     "output_type": "stream",
     "text": [
      "mRNA sequence from Sequence Z = CAGACGGUUUCAAGGUGACUGUGACUGAGGUUGUGGUA\n"
     ]
    }
   ],
   "source": [
    "# Transcribe\n",
    "\n",
    "mRNA = seq_z.transcribe()\n",
    "print(f\"mRNA sequence from Sequence Z = {mRNA}\")"
   ]
  },
  {
   "cell_type": "code",
   "execution_count": 100,
   "metadata": {},
   "outputs": [
    {
     "name": "stdout",
     "output_type": "stream",
     "text": [
      "Amino acids sequence from Sequence Z = QTVSR*L*LRLW\n",
      "Amino acids sequence from Sequence Z = GlnThrValSerArgTerLeuTerLeuArgLeuTrp\n"
     ]
    }
   ],
   "source": [
    "# Translate\n",
    "\n",
    "from Bio.SeqUtils import seq3\n",
    "\n",
    "amino_acids = seq_z.translate()\n",
    "print(f\"Amino acids sequence from Sequence Z = {amino_acids}\")\n",
    "print(f\"Amino acids sequence from Sequence Z = {seq3(amino_acids)}\")"
   ]
  },
  {
   "attachments": {},
   "cell_type": "markdown",
   "metadata": {},
   "source": [
    "4. Sequence Alignment and Similarities"
   ]
  },
  {
   "cell_type": "code",
   "execution_count": 101,
   "metadata": {},
   "outputs": [],
   "source": [
    "from Bio import pairwise2\n",
    "from Bio.pairwise2 import format_alignment"
   ]
  },
  {
   "cell_type": "code",
   "execution_count": 102,
   "metadata": {},
   "outputs": [
    {
     "name": "stdout",
     "output_type": "stream",
     "text": [
      "Local alignment score between Sequence X and Sequence Y = 873.0\n"
     ]
    }
   ],
   "source": [
    "# Local alignment\n",
    "\n",
    "local_alignment = pairwise2.align.localxx(seq_x, seq_y, score_only=True)\n",
    "print(f\"Local alignment score between Sequence X and Sequence Y = {local_alignment}\")"
   ]
  },
  {
   "cell_type": "code",
   "execution_count": 103,
   "metadata": {},
   "outputs": [
    {
     "name": "stdout",
     "output_type": "stream",
     "text": [
      "Local alignment score between Sequence Y and Sequence Z = 38.0\n"
     ]
    }
   ],
   "source": [
    "# Global alignment\n",
    "\n",
    "global_alignment = pairwise2.align.globalxx(seq_y, seq_z, score_only=True)\n",
    "print(f\"Local alignment score between Sequence Y and Sequence Z = {global_alignment}\")"
   ]
  },
  {
   "cell_type": "code",
   "execution_count": 104,
   "metadata": {},
   "outputs": [
    {
     "name": "stdout",
     "output_type": "stream",
     "text": [
      "Hamming distance between Sequence X and Sequence Y = 755\n"
     ]
    }
   ],
   "source": [
    "# Hamming distance\n",
    "\n",
    "def hamming_distance(seq_a, seq_b):\n",
    "    count = 0\n",
    "    for i,j in zip(seq_a, seq_b):\n",
    "        if i != j:\n",
    "            count += 1\n",
    "    return count\n",
    "\n",
    "print(f\"Hamming distance between Sequence X and Sequence Y = {hamming_distance(seq_x, seq_y)}\")"
   ]
  },
  {
   "cell_type": "code",
   "execution_count": 105,
   "metadata": {},
   "outputs": [
    {
     "name": "stdout",
     "output_type": "stream",
     "text": [
      "Levenshtein distance between Sequence X and Sequence Y = 1028\n"
     ]
    }
   ],
   "source": [
    "# Levenshtein distance\n",
    "\n",
    "import Levenshtein\n",
    "\n",
    "print(f\"Levenshtein distance between Sequence X and Sequence Y = {Levenshtein.distance(seq_x, seq_y)}\")"
   ]
  }
 ],
 "metadata": {
  "kernelspec": {
   "display_name": "Python 3",
   "language": "python",
   "name": "python3"
  },
  "language_info": {
   "codemirror_mode": {
    "name": "ipython",
    "version": 3
   },
   "file_extension": ".py",
   "mimetype": "text/x-python",
   "name": "python",
   "nbconvert_exporter": "python",
   "pygments_lexer": "ipython3",
   "version": "3.10.9"
  },
  "orig_nbformat": 4
 },
 "nbformat": 4,
 "nbformat_minor": 2
}
