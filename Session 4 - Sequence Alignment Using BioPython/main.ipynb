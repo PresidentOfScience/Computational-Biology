{
 "cells": [
  {
   "cell_type": "code",
   "execution_count": 1,
   "metadata": {},
   "outputs": [],
   "source": [
    "from Bio.Seq import Seq"
   ]
  },
  {
   "cell_type": "code",
   "execution_count": 20,
   "metadata": {},
   "outputs": [],
   "source": [
    "seq_a = Seq('ATGCCGCAT')\n",
    "seq_b = Seq('ATCGCGGCA')\n",
    "seq_c = Seq('ATCG')\n",
    "seq_d = Seq('TCGT')"
   ]
  },
  {
   "cell_type": "code",
   "execution_count": 5,
   "metadata": {},
   "outputs": [
    {
     "name": "stdout",
     "output_type": "stream",
     "text": [
      "7.0\n"
     ]
    }
   ],
   "source": [
    "from Bio import pairwise2\n",
    "from Bio.pairwise2 import format_alignment\n",
    "\n",
    "alignments = pairwise2.align.globalxx(seq_a, seq_b, score_only=True)\n",
    "print(alignments)"
   ]
  },
  {
   "cell_type": "code",
   "execution_count": 7,
   "metadata": {},
   "outputs": [
    {
     "name": "stdout",
     "output_type": "stream",
     "text": [
      "ATGC-CG-CAT\n",
      "|| | || || \n",
      "AT-CGCGGCA-\n",
      "  Score=7\n",
      "\n",
      "AT-GCCG-CAT\n",
      "|| | || || \n",
      "ATCG-CGGCA-\n",
      "  Score=7\n",
      "\n",
      "AT-GCCG-CAT\n",
      "|| || | || \n",
      "ATCGC-GGCA-\n",
      "  Score=7\n",
      "\n",
      "ATGC-C-GCAT\n",
      "|| | | ||| \n",
      "AT-CGCGGCA-\n",
      "  Score=7\n",
      "\n",
      "AT-GCC-GCAT\n",
      "|| | | ||| \n",
      "ATCG-CGGCA-\n",
      "  Score=7\n",
      "\n",
      "AT-GCC-GCAT\n",
      "|| ||  ||| \n",
      "ATCGC-GGCA-\n",
      "  Score=7\n",
      "\n",
      "AT-GCCGCAT\n",
      "|| ||.||| \n",
      "ATCGCGGCA-\n",
      "  Score=7\n",
      "\n"
     ]
    }
   ],
   "source": [
    "alignments = pairwise2.align.globalxx(seq_a, seq_b)\n",
    "for alignment in alignments:\n",
    "    print(format_alignment(*alignment))"
   ]
  },
  {
   "cell_type": "code",
   "execution_count": 12,
   "metadata": {},
   "outputs": [
    {
     "name": "stdout",
     "output_type": "stream",
     "text": [
      "1 ATGCCGC\n",
      "  ||    |\n",
      "1 AT----C\n",
      "  Score=3\n",
      "\n",
      "1 ATGCC\n",
      "  ||  |\n",
      "1 AT--C\n",
      "  Score=3\n",
      "\n",
      "1 ATGC\n",
      "  || |\n",
      "1 AT-C\n",
      "  Score=3\n",
      "\n"
     ]
    }
   ],
   "source": [
    "alignments_local = pairwise2.align.localxx(seq_a, seq_c)\n",
    "for alignment in alignments_local:\n",
    "    print(format_alignment(*alignment))"
   ]
  },
  {
   "cell_type": "code",
   "execution_count": 13,
   "metadata": {},
   "outputs": [],
   "source": [
    "def hemming_distance(seqA, seqB):\n",
    "    count = 0\n",
    "    for i,j in zip(seqA, seqB):\n",
    "        if i != j:\n",
    "            count += 1\n",
    "    return count"
   ]
  },
  {
   "cell_type": "code",
   "execution_count": 14,
   "metadata": {},
   "outputs": [
    {
     "name": "stdout",
     "output_type": "stream",
     "text": [
      "ATGCCGCAT\n",
      "ATCGCGGCA\n"
     ]
    },
    {
     "data": {
      "text/plain": [
       "5"
      ]
     },
     "execution_count": 14,
     "metadata": {},
     "output_type": "execute_result"
    }
   ],
   "source": [
    "print(seq_a)\n",
    "print(seq_b)\n",
    "hemming_distance(seq_a, seq_b)"
   ]
  },
  {
   "cell_type": "code",
   "execution_count": 15,
   "metadata": {},
   "outputs": [
    {
     "name": "stdout",
     "output_type": "stream",
     "text": [
      "3\n"
     ]
    }
   ],
   "source": [
    "import Levenshtein\n",
    "\n",
    "levenshtein_distance = Levenshtein.distance(seq_a, seq_b)\n",
    "print(levenshtein_distance)"
   ]
  },
  {
   "cell_type": "code",
   "execution_count": 21,
   "metadata": {},
   "outputs": [
    {
     "name": "stdout",
     "output_type": "stream",
     "text": [
      "4\n",
      "2\n"
     ]
    }
   ],
   "source": [
    "print(hemming_distance(seq_c, seq_d))\n",
    "levenshtein_distance = Levenshtein.distance(seq_c, seq_d)\n",
    "print(levenshtein_distance)"
   ]
  },
  {
   "cell_type": "code",
   "execution_count": 24,
   "metadata": {},
   "outputs": [],
   "source": [
    "def plot(seqA, seqB):\n",
    "    print(' |' + seqB)\n",
    "    print('-' * (len(seqB)+3))\n",
    "    for i in seqA:\n",
    "        print(i + '|', end='')\n",
    "        for j in seqB:\n",
    "            if i == j:\n",
    "                print('#', end='')\n",
    "            else:\n",
    "                print('.', end='')\n",
    "        print()"
   ]
  },
  {
   "cell_type": "code",
   "execution_count": 25,
   "metadata": {},
   "outputs": [
    {
     "name": "stdout",
     "output_type": "stream",
     "text": [
      " |ATCGCGGCA\n",
      "------------\n",
      "A|#.......#\n",
      "T|.#.......\n",
      "G|...#.##..\n",
      "C|..#.#..#.\n",
      "C|..#.#..#.\n",
      "G|...#.##..\n",
      "C|..#.#..#.\n",
      "A|#.......#\n",
      "T|.#.......\n"
     ]
    }
   ],
   "source": [
    "plot(seq_a, seq_b)"
   ]
  }
 ],
 "metadata": {
  "kernelspec": {
   "display_name": "Python 3",
   "language": "python",
   "name": "python3"
  },
  "language_info": {
   "codemirror_mode": {
    "name": "ipython",
    "version": 3
   },
   "file_extension": ".py",
   "mimetype": "text/x-python",
   "name": "python",
   "nbconvert_exporter": "python",
   "pygments_lexer": "ipython3",
   "version": "3.10.9"
  },
  "orig_nbformat": 4
 },
 "nbformat": 4,
 "nbformat_minor": 2
}
