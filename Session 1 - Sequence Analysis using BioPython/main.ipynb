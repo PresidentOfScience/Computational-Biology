{
 "cells": [
  {
   "cell_type": "code",
   "execution_count": 1,
   "metadata": {},
   "outputs": [
    {
     "name": "stdout",
     "output_type": "stream",
     "text": [
      "Requirement already satisfied: BioPython in c:\\users\\lenovo\\appdata\\local\\programs\\python\\python310\\lib\\site-packages (1.83)Note: you may need to restart the kernel to use updated packages.\n"
     ]
    },
    {
     "name": "stderr",
     "output_type": "stream",
     "text": [
      "\n",
      "[notice] A new release of pip available: 22.3.1 -> 24.0\n",
      "[notice] To update, run: python.exe -m pip install --upgrade pip\n"
     ]
    },
    {
     "name": "stdout",
     "output_type": "stream",
     "text": [
      "\n",
      "Requirement already satisfied: numpy in c:\\users\\lenovo\\appdata\\local\\programs\\python\\python310\\lib\\site-packages (from BioPython) (1.26.4)\n"
     ]
    }
   ],
   "source": [
    "%pip install BioPython"
   ]
  },
  {
   "cell_type": "code",
   "execution_count": 2,
   "metadata": {},
   "outputs": [],
   "source": [
    "from Bio.Seq import Seq"
   ]
  },
  {
   "cell_type": "code",
   "execution_count": 4,
   "metadata": {},
   "outputs": [
    {
     "name": "stdout",
     "output_type": "stream",
     "text": [
      "ACGTGAGGGCAT\n"
     ]
    }
   ],
   "source": [
    "seq1 = Seq(\"ACGTGAGGGCAT\")\n",
    "print(seq1)"
   ]
  },
  {
   "cell_type": "code",
   "execution_count": 5,
   "metadata": {},
   "outputs": [
    {
     "name": "stdout",
     "output_type": "stream",
     "text": [
      "ACGTGAGGGCATTACAGTAAACCA\n"
     ]
    }
   ],
   "source": [
    "seq2 = Seq(\"TACAGTAAACCA\")\n",
    "seq3 = seq1 + seq2\n",
    "print(seq3)"
   ]
  },
  {
   "cell_type": "code",
   "execution_count": 6,
   "metadata": {},
   "outputs": [
    {
     "name": "stdout",
     "output_type": "stream",
     "text": [
      "12\n"
     ]
    }
   ],
   "source": [
    "print(len(seq2))"
   ]
  },
  {
   "cell_type": "code",
   "execution_count": 10,
   "metadata": {},
   "outputs": [
    {
     "name": "stdout",
     "output_type": "stream",
     "text": [
      "GTGA\n",
      "AGGGGA\n"
     ]
    }
   ],
   "source": [
    "print(seq1[2:6:])\n",
    "print(seq1[::2])"
   ]
  },
  {
   "cell_type": "code",
   "execution_count": 11,
   "metadata": {},
   "outputs": [
    {
     "name": "stdout",
     "output_type": "stream",
     "text": [
      "ACGTGAGGGCAT\n",
      "TACGGGAGTGCA\n"
     ]
    }
   ],
   "source": [
    "# Inverse\n",
    "print(seq1[::1])\n",
    "print(seq1[::-1])"
   ]
  },
  {
   "cell_type": "code",
   "execution_count": 20,
   "metadata": {},
   "outputs": [
    {
     "name": "stdout",
     "output_type": "stream",
     "text": [
      "1\n",
      "1\n",
      "6\n",
      "6\n",
      "9\n",
      "9\n",
      "-1\n"
     ]
    }
   ],
   "source": [
    "# Cari basa nitrogen\n",
    "print(seq1.find(\"C\"))\n",
    "print(seq1.index(\"C\"))\n",
    "print(seq1.find(\"GGG\"))\n",
    "print(seq1.index(\"GGG\"))\n",
    "\n",
    "# Cari basa nitrogen setelah index ke n\n",
    "print(seq1.find(\"C\", 3))\n",
    "print(seq1.index(\"C\", 3))\n",
    "print(seq1.find(\"C\", 12))"
   ]
  },
  {
   "cell_type": "code",
   "execution_count": 23,
   "metadata": {},
   "outputs": [
    {
     "name": "stdout",
     "output_type": "stream",
     "text": [
      "['C', 1, 9]\n"
     ]
    }
   ],
   "source": [
    "from Bio.SeqUtils import nt_search\n",
    "\n",
    "print(nt_search(str(seq1), \"C\"))"
   ]
  },
  {
   "cell_type": "code",
   "execution_count": 24,
   "metadata": {},
   "outputs": [
    {
     "name": "stdout",
     "output_type": "stream",
     "text": [
      "2\n"
     ]
    }
   ],
   "source": [
    "print(seq1.count(\"C\"))"
   ]
  },
  {
   "cell_type": "code",
   "execution_count": 27,
   "metadata": {},
   "outputs": [
    {
     "name": "stdout",
     "output_type": "stream",
     "text": [
      "Counter({'G': 5, 'A': 3, 'C': 2, 'T': 2})\n"
     ]
    }
   ],
   "source": [
    "from collections import Counter\n",
    "\n",
    "print(Counter(seq1))"
   ]
  },
  {
   "cell_type": "code",
   "execution_count": 28,
   "metadata": {},
   "outputs": [
    {
     "name": "stdout",
     "output_type": "stream",
     "text": [
      "TACGGGAGTGCAAGTAA\n"
     ]
    }
   ],
   "source": [
    "print(seq1[::-1] + seq2[3:8:])"
   ]
  },
  {
   "cell_type": "code",
   "execution_count": 32,
   "metadata": {},
   "outputs": [
    {
     "data": {
      "image/png": "[encoded data removed]",
      "text/plain": [
       "<Figure size 640x480 with 1 Axes>"
      ]
     },
     "metadata": {},
     "output_type": "display_data"
    }
   ],
   "source": [
    "import matplotlib.pyplot as plt\n",
    "\n",
    "# plt.bar(keys, values)\n",
    "\n",
    "countSeq1 = Counter(seq1)\n",
    "seq1Keys = countSeq1.keys()\n",
    "seq1Values = countSeq1.values()\n",
    "\n",
    "plt.bar(seq1Keys, seq1Values, color=[\"red\", \"pink\", \"yellow\", \"blue\"])\n",
    "plt.title(\"Sequence 1\")\n",
    "plt.xlabel(\"Basa Nukleotida\")\n",
    "plt.ylabel(\"Frekuensi\")\n",
    "plt.show()"
   ]
  }
 ],
 "metadata": {
  "kernelspec": {
   "display_name": "Python 3",
   "language": "python",
   "name": "python3"
  },
  "language_info": {
   "codemirror_mode": {
    "name": "ipython",
    "version": 3
   },
   "file_extension": ".py",
   "mimetype": "text/x-python",
   "name": "python",
   "nbconvert_exporter": "python",
   "pygments_lexer": "ipython3",
   "version": "3.10.9"
  },
  "orig_nbformat": 4
 },
 "nbformat": 4,
 "nbformat_minor": 2
}
